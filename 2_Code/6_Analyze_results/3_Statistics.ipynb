{
 "cells": [
  {
   "cell_type": "code",
   "execution_count": 1,
   "metadata": {},
   "outputs": [],
   "source": [
    "import nibabel as nib\n",
    "\n",
    "import numpy as np\n",
    "\n",
    "import scipy.stats as stats\n",
    "\n",
    "from nilearn.image import resample_img"
   ]
  },
  {
   "cell_type": "code",
   "execution_count": 2,
   "metadata": {},
   "outputs": [],
   "source": [
    "# Groups\n",
    "groups=['HCP','CHIASM']\n",
    "\n",
    "# Participants\n",
    "CHIASM_con=['CON1','CON2','CON3','CON4','CON5','CON6','CON7','CON8']\n",
    "CHIASM_alb=['ALB1','ALB2','ALB3','ALB4','ALB5','ALB6','ALB7','ALB8','ALB9']\n",
    "HCP_con= ['101107','118730','131823','134223','151425','165436','208226','304727','379657','673455']\n",
    "HCP=HCP_con\n",
    "\n",
    "# Path to data\n",
    "data_folder='/home/rjp/1_OVGU/2_Chiasmal_Abnormalities_Deep_Learning_Based_Segmentation/1_Data/'"
   ]
  },
  {
   "cell_type": "code",
   "execution_count": 3,
   "metadata": {},
   "outputs": [],
   "source": [
    "# Function that takes dictionary and model and returns Sorensen-Dice coefficients for target-prediction pairs\n",
    "\n",
    "# Sorensen-Dice coefficient\n",
    "def dice(img_true, img_pred, smooth=0):       \n",
    "    intersection = np.sum(img_true * img_pred)\n",
    "    union = np.sum(img_true) + np.sum(img_pred)\n",
    "    dice = (2. * intersection + smooth)/(union+smooth)   \n",
    "    return dice\n",
    "                    \n",
    "def calculate_dice(path1, path2):\n",
    "    file_target, file_prediction = nib.load(path1), nib.load(path2)   \n",
    "    file_target_trans, file_prediction_trans = resample_img(file_target, file_prediction.affine, file_prediction.shape, 'linear'),resample_img(file_prediction, file_prediction.affine, file_prediction.shape, 'linear')       \n",
    "    data_target, data_prediction = file_target_trans.get_fdata(), file_prediction_trans.get_fdata()\n",
    "    return dice(data_target, data_prediction)"
   ]
  },
  {
   "cell_type": "code",
   "execution_count": 4,
   "metadata": {},
   "outputs": [],
   "source": [
    "# DSC for X-mask_manual vs X-mask_CNN\n",
    "dice_hand_refi_vs_pred={}\n",
    "\n",
    "for group in ['CHIASM_con','CHIASM_alb', 'HCP_con']:\n",
    "    dice_hand_refi_vs_pred[group]={}\n",
    "    for sub in eval(group):\n",
    "        hand=data_folder+'2_X-mask_manual/'+group[:-4]+'/'+sub+'/X-mask_manual.nii.gz'\n",
    "        pred=data_folder+'5_X-mask_CNN/training_30ep_00025lr_dice/connectivity_3/threshold_1/'+group[:-4]+'/'+sub+'/X-mask_CNN_cropped_to_gt.nii.gz'    \n",
    "        dice_hand_refi_vs_pred[group][sub]=calculate_dice(hand,pred)"
   ]
  },
  {
   "cell_type": "code",
   "execution_count": 5,
   "metadata": {},
   "outputs": [],
   "source": [
    "# DSC for X-mask_manual vs X-mask_atlas-corrected\n",
    "dice_hand_vs_refined={}\n",
    "\n",
    "for group in ['CHIASM_con','CHIASM_alb', 'HCP_con']:\n",
    "    dice_hand_vs_refined[group]={}\n",
    "    for sub in eval(group):\n",
    "        hand=data_folder+'2_X-mask_manual/'+group[:-4]+'/'+sub+'/X-mask_manual.nii.gz'\n",
    "        label=data_folder+'4_X-mask_atlas-corrected/'+group[:-4]+'/'+sub+'/X-mask_atlas-corrected_cropped_to_gt.nii.gz'    \n",
    "        dice_hand_vs_refined[group][sub]=calculate_dice(hand,label)"
   ]
  },
  {
   "cell_type": "code",
   "execution_count": 6,
   "metadata": {},
   "outputs": [],
   "source": [
    "# DSC for X-mask_manual vs X-mask_atlas-initial\n",
    "dice_hand_vs_initial={}\n",
    "\n",
    "for group in ['CHIASM_con','CHIASM_alb', 'HCP_con']:\n",
    "    dice_hand_vs_initial[group]={}\n",
    "    for sub in eval(group):\n",
    "        hand=data_folder+'2_X-mask_manual/'+group[:-4]+'/'+sub+'/X-mask_manual.nii.gz'\n",
    "        label=data_folder+'3_X-mask_atlas-initial/'+group[:-4]+'/'+sub+'/X-mask_atlas-initial_cropped_to_gt.nii.gz'    \n",
    "        dice_hand_vs_initial[group][sub]=calculate_dice(hand,label)"
   ]
  },
  {
   "cell_type": "code",
   "execution_count": 7,
   "metadata": {},
   "outputs": [],
   "source": [
    "groups=['CHIASM_con','CHIASM_alb','HCP_con']"
   ]
  },
  {
   "cell_type": "markdown",
   "metadata": {},
   "source": [
    "### Return mean and std for each type and group"
   ]
  },
  {
   "cell_type": "code",
   "execution_count": 8,
   "metadata": {},
   "outputs": [
    {
     "name": "stdout",
     "output_type": "stream",
     "text": [
      "Initial\n",
      "CHIASM_con mean 0.49794 and sem 0.04313\n",
      "CHIASM_alb mean 0.52505 and sem 0.04560\n",
      "HCP_con mean 0.57144 and sem 0.03460\n"
     ]
    }
   ],
   "source": [
    "# Values for initial\n",
    "print('Initial')\n",
    "for group in groups:\n",
    "    print(f\"{group} mean {np.mean(list(dice_hand_vs_initial[group].values())):.5f} and sem {stats.sem(list(dice_hand_vs_initial[group].values())):.5f}\")"
   ]
  },
  {
   "cell_type": "code",
   "execution_count": 9,
   "metadata": {},
   "outputs": [
    {
     "name": "stdout",
     "output_type": "stream",
     "text": [
      "Refined\n",
      "CHIASM_con mean 0.28217 and sem 0.03661\n",
      "CHIASM_alb mean 0.33113 and sem 0.04004\n",
      "HCP_con mean 0.74557 and sem 0.02951\n"
     ]
    }
   ],
   "source": [
    "# Values for refined\n",
    "print('Refined')\n",
    "for group in groups:\n",
    "    print(f\"{group} mean {np.mean(list(dice_hand_vs_refined[group].values())):.5f} and sem {stats.sem(list(dice_hand_vs_refined[group].values())):.5f}\")"
   ]
  },
  {
   "cell_type": "code",
   "execution_count": 10,
   "metadata": {},
   "outputs": [
    {
     "name": "stdout",
     "output_type": "stream",
     "text": [
      "Prediction\n",
      "CHIASM_con mean 0.74795 and sem 0.02572\n",
      "CHIASM_alb mean 0.43704 and sem 0.08285\n",
      "HCP_con mean 0.79464 and sem 0.02003\n"
     ]
    }
   ],
   "source": [
    "# Values for prediction\n",
    "print('Prediction')\n",
    "for group in groups:\n",
    "    print(f\"{group} mean {np.mean(list(dice_hand_refi_vs_pred[group].values())):.5f} and sem {stats.sem(list(dice_hand_refi_vs_pred[group].values())):.5f}\")"
   ]
  },
  {
   "cell_type": "markdown",
   "metadata": {},
   "source": [
    "### Test the normality of distribution"
   ]
  },
  {
   "cell_type": "code",
   "execution_count": 11,
   "metadata": {},
   "outputs": [
    {
     "name": "stdout",
     "output_type": "stream",
     "text": [
      "Initial\n",
      "CHIASM_con p-value equal 0.8100766546397331\n",
      "CHIASM_alb p-value equal 0.21287966781224515\n",
      "HCP_con p-value equal 0.0055956934358798146\n"
     ]
    },
    {
     "name": "stderr",
     "output_type": "stream",
     "text": [
      "/home/rjp/Software/anaconda3/envs/optic_chiasm/lib/python3.8/site-packages/scipy/stats/stats.py:1603: UserWarning: kurtosistest only valid for n>=20 ... continuing anyway, n=8\n",
      "  warnings.warn(\"kurtosistest only valid for n>=20 ... continuing \"\n",
      "/home/rjp/Software/anaconda3/envs/optic_chiasm/lib/python3.8/site-packages/scipy/stats/stats.py:1603: UserWarning: kurtosistest only valid for n>=20 ... continuing anyway, n=9\n",
      "  warnings.warn(\"kurtosistest only valid for n>=20 ... continuing \"\n",
      "/home/rjp/Software/anaconda3/envs/optic_chiasm/lib/python3.8/site-packages/scipy/stats/stats.py:1603: UserWarning: kurtosistest only valid for n>=20 ... continuing anyway, n=10\n",
      "  warnings.warn(\"kurtosistest only valid for n>=20 ... continuing \"\n"
     ]
    }
   ],
   "source": [
    "# Normality of initial\n",
    "print('Initial')\n",
    "for g in groups:\n",
    "    _, p = stats.normaltest(list(dice_hand_vs_initial[g].values()))\n",
    "    print(f\"{g} p-value equal {p}\") # null hypothesis: sample comes from normal distribution"
   ]
  },
  {
   "cell_type": "code",
   "execution_count": 12,
   "metadata": {},
   "outputs": [
    {
     "name": "stdout",
     "output_type": "stream",
     "text": [
      "Refined\n",
      "CHIASM_con p-value equal 0.6921551631793526\n",
      "CHIASM_alb p-value equal 0.5146016505687968\n",
      "HCP_con p-value equal 0.5118172081702516\n"
     ]
    }
   ],
   "source": [
    "# Normality of refined\n",
    "print('Refined')\n",
    "for g in groups:\n",
    "    _, p = stats.normaltest(list(dice_hand_vs_refined[g].values()))\n",
    "    print(f\"{g} p-value equal {p}\") # null hypothesis: sample comes from normal distribution"
   ]
  },
  {
   "cell_type": "code",
   "execution_count": 13,
   "metadata": {},
   "outputs": [
    {
     "name": "stdout",
     "output_type": "stream",
     "text": [
      "Predicted\n",
      "CHIASM_con p-value equal 0.7167169701938942\n",
      "CHIASM_alb p-value equal 0.915239603006597\n",
      "HCP_con p-value equal 0.08181400062000069\n"
     ]
    }
   ],
   "source": [
    "# Normality of predicted\n",
    "print('Predicted')\n",
    "for g in groups:\n",
    "    _, p = stats.normaltest(list(dice_hand_refi_vs_pred[g].values()))\n",
    "    print(f\"{g} p-value equal {p}\") # null hypothesis: sample comes from normal distribution"
   ]
  },
  {
   "cell_type": "markdown",
   "metadata": {},
   "source": [
    "### Tests"
   ]
  },
  {
   "cell_type": "code",
   "execution_count": 14,
   "metadata": {},
   "outputs": [],
   "source": [
    "# Dictionary of tests\n",
    "tests_pvalues={}"
   ]
  },
  {
   "cell_type": "code",
   "execution_count": 15,
   "metadata": {},
   "outputs": [],
   "source": [
    "# HCP_con initial vs HCP_con refined\n",
    "tests_pvalues['HCPcon_initial_vs_refined']=stats.ranksums(list(dice_hand_vs_initial['HCP_con'].values()),list(dice_hand_vs_refined['HCP_con'].values()))[1]"
   ]
  },
  {
   "cell_type": "code",
   "execution_count": 16,
   "metadata": {},
   "outputs": [],
   "source": [
    "# HCP_con initial vs CHIASM_con initial\n",
    "tests_pvalues['HCPcon_initial_vs_CHIASMcon_initial']=stats.ranksums(list(dice_hand_vs_initial['HCP_con'].values()),list(dice_hand_vs_initial['CHIASM_con'].values()))[1]"
   ]
  },
  {
   "cell_type": "code",
   "execution_count": 17,
   "metadata": {},
   "outputs": [],
   "source": [
    "# HCP_con refined vs HCP_con predicted\n",
    "tests_pvalues['HCPcon_refined_vs_HCPcon_predicted']=stats.ttest_ind(list(dice_hand_vs_refined['HCP_con'].values()),list(dice_hand_refi_vs_pred['HCP_con'].values()))[1]"
   ]
  },
  {
   "cell_type": "code",
   "execution_count": 18,
   "metadata": {},
   "outputs": [],
   "source": [
    "# HCP_con refined vs CHIASM_con refined\n",
    "tests_pvalues['HCPcon_refined_vs_CHIASMcon_refined']=stats.ttest_ind(list(dice_hand_vs_refined['HCP_con'].values()),list(dice_hand_vs_refined['CHIASM_con'].values()))[1]"
   ]
  },
  {
   "cell_type": "code",
   "execution_count": 19,
   "metadata": {},
   "outputs": [],
   "source": [
    "# HCP_con predicted vs CHIASM_con predicted\n",
    "tests_pvalues['HCPcon_predicted_vs_CHIASMcon_predicted']=stats.ttest_ind(list(dice_hand_refi_vs_pred['HCP_con'].values()),list(dice_hand_refi_vs_pred['CHIASM_con'].values()))[1]"
   ]
  },
  {
   "cell_type": "code",
   "execution_count": 20,
   "metadata": {},
   "outputs": [],
   "source": [
    "# HCP_con predicted vs CHIASM_alb predicted\n",
    "tests_pvalues['HCPcon_predicted_vs_CHIASMalb_predicted']=stats.ttest_ind(list(dice_hand_refi_vs_pred['HCP_con'].values()),list(dice_hand_refi_vs_pred['CHIASM_alb'].values()))[1]"
   ]
  },
  {
   "cell_type": "code",
   "execution_count": 21,
   "metadata": {},
   "outputs": [],
   "source": [
    "# CHIASM_con initial vs CHIASM_con refined\n",
    "tests_pvalues['CHIASMcon_initial_vs_CHIASMcon_refined']=stats.ttest_ind(list(dice_hand_vs_initial['CHIASM_con'].values()),list(dice_hand_vs_refined['CHIASM_con'].values()))[1]"
   ]
  },
  {
   "cell_type": "code",
   "execution_count": 22,
   "metadata": {},
   "outputs": [],
   "source": [
    "# CHIASM_con refined vs CHIASM_con predicted\n",
    "tests_pvalues['CHIASMcon_refined_vs_CHIASMcon_predicted']=stats.ttest_ind(list(dice_hand_vs_refined['CHIASM_con'].values()),list(dice_hand_refi_vs_pred['CHIASM_con'].values()))[1]"
   ]
  },
  {
   "cell_type": "code",
   "execution_count": 23,
   "metadata": {},
   "outputs": [],
   "source": [
    "# CHIASM_con predicted vs CHIASM_alb predicted\n",
    "tests_pvalues['CHIASMcon_predicted_vs_CHIASMalb_predicted']=stats.ttest_ind(list(dice_hand_refi_vs_pred['CHIASM_con'].values()),list(dice_hand_refi_vs_pred['CHIASM_alb'].values()))[1]"
   ]
  },
  {
   "cell_type": "code",
   "execution_count": 24,
   "metadata": {},
   "outputs": [],
   "source": [
    "# CHIASM_alb refined vs CHIASM_alb predicted\n",
    "tests_pvalues['CHIASMalb_refined_vs_CHIASMalb_predicted']=stats.ttest_ind(list(dice_hand_vs_refined['CHIASM_alb'].values()),list(dice_hand_refi_vs_pred['CHIASM_alb'].values()))[1]"
   ]
  },
  {
   "cell_type": "code",
   "execution_count": 25,
   "metadata": {},
   "outputs": [
    {
     "data": {
      "text/plain": [
       "{'HCPcon_initial_vs_refined': 0.002496908915141548,\n",
       " 'HCPcon_initial_vs_CHIASMcon_initial': 0.10974463874701328,\n",
       " 'HCPcon_refined_vs_HCPcon_predicted': 0.18577671131830137,\n",
       " 'HCPcon_refined_vs_CHIASMcon_refined': 2.841531655413912e-08,\n",
       " 'HCPcon_predicted_vs_CHIASMcon_predicted': 0.16486050363710597,\n",
       " 'HCPcon_predicted_vs_CHIASMalb_predicted': 0.0003859639434391207,\n",
       " 'CHIASMcon_initial_vs_CHIASMcon_refined': 0.0018978797309722537,\n",
       " 'CHIASMcon_refined_vs_CHIASMcon_predicted': 5.6710212150268804e-08,\n",
       " 'CHIASMcon_predicted_vs_CHIASMalb_predicted': 0.003959957457813841,\n",
       " 'CHIASMalb_refined_vs_CHIASMalb_predicted': 0.26665686634201213}"
      ]
     },
     "execution_count": 25,
     "metadata": {},
     "output_type": "execute_result"
    }
   ],
   "source": [
    "tests_pvalues"
   ]
  },
  {
   "cell_type": "code",
   "execution_count": null,
   "metadata": {},
   "outputs": [],
   "source": [
    "pvalues=(statsmodels.stats.multitest.multipletests(list(tests_pvalues.values()), alpha=0.05, method='bonferroni')[1]\n",
    "my_formatted_list = [ '%.8f' % elem for elem in pvalues ]\n",
    "my_formatted_list"
   ]
  }
 ],
 "metadata": {
  "kernelspec": {
   "display_name": "Python 3",
   "language": "python",
   "name": "python3"
  },
  "language_info": {
   "codemirror_mode": {
    "name": "ipython",
    "version": 3
   },
   "file_extension": ".py",
   "mimetype": "text/x-python",
   "name": "python",
   "nbconvert_exporter": "python",
   "pygments_lexer": "ipython3",
   "version": "3.8.3"
  }
 },
 "nbformat": 4,
 "nbformat_minor": 4
}
