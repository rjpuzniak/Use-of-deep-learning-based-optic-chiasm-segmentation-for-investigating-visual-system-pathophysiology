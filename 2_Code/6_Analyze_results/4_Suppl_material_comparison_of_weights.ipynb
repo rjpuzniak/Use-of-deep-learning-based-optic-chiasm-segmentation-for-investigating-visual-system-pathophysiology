{
 "cells": [
  {
   "cell_type": "markdown",
   "metadata": {},
   "source": [
    "# Comparison of weights"
   ]
  },
  {
   "cell_type": "code",
   "execution_count": 1,
   "metadata": {},
   "outputs": [],
   "source": [
    "import glob\n",
    "import nibabel as nib\n",
    "import numpy as np\n",
    "import matplotlib.pyplot as plt\n",
    "from nilearn.image import resample_img\n",
    "import os\n",
    "from scipy.ndimage.morphology import binary_erosion\n",
    "\n",
    "import scipy.stats as stats\n",
    "\n",
    "import seaborn as sbs\n",
    "\n",
    "import pickle"
   ]
  },
  {
   "cell_type": "code",
   "execution_count": 2,
   "metadata": {},
   "outputs": [],
   "source": [
    "# Function that takes dictionary and model and returns Sorensen-Dice coefficients for target-prediction pairs\n",
    "\n",
    "# Sorensen-Dice coefficient\n",
    "def dice(img_true, img_pred, smooth=0):       \n",
    "    intersection = np.sum(img_true * img_pred)\n",
    "    union = np.sum(img_true) + np.sum(img_pred)\n",
    "    dice = (2. * intersection + smooth)/(union+smooth)   \n",
    "    return dice\n",
    "                    \n",
    "def calculate_dice(path1, path2):\n",
    "    file_target, file_prediction = nib.load(path1), nib.load(path2)   \n",
    "    file_target_trans, file_prediction_trans = resample_img(file_target, file_prediction.affine, file_prediction.shape, 'linear'),resample_img(file_prediction, file_prediction.affine, file_prediction.shape, 'linear')       \n",
    "    data_target, data_prediction = file_target_trans.get_fdata(), file_prediction_trans.get_fdata()\n",
    "    return dice(data_target, data_prediction)"
   ]
  },
  {
   "cell_type": "code",
   "execution_count": 3,
   "metadata": {},
   "outputs": [],
   "source": [
    "# Groups\n",
    "groups=['HCP','CHIASM']\n",
    "\n",
    "# Participants\n",
    "CHIASM_con=['CON1','CON2','CON3','CON4','CON5','CON6','CON7','CON8']\n",
    "CHIASM_alb=['ALB1','ALB2','ALB3','ALB4','ALB5','ALB6','ALB7','ALB8','ALB9']\n",
    "HCP_con= ['101107','118730','131823','134223','151425','165436','208226','304727','379657','673455']\n",
    "\n",
    "# Path to data\n",
    "data_folder='../../1_Data/'"
   ]
  },
  {
   "cell_type": "code",
   "execution_count": 4,
   "metadata": {},
   "outputs": [],
   "source": [
    "# Parameters determining prediction of DCNN\n",
    "weights=['13ep_00025lr_dice','15ep_0003lr_dice','30ep_00025lr_dice','40ep_00015lr_dice','100ep_00005lr_dice']\n",
    "connectivity_type=['1','2','3']\n",
    "cutoff_threshold=['0.25','0.5','0.75','1']"
   ]
  },
  {
   "cell_type": "code",
   "execution_count": 5,
   "metadata": {},
   "outputs": [],
   "source": [
    "# Dictionary with all the DSC for HCP\n",
    "HCP_qa={}\n",
    "\n",
    "for connectivity in connectivity_type:\n",
    "    HCP_qa[connectivity]={}\n",
    "    for weight in weights:\n",
    "        HCP_qa[connectivity][weight]={}\n",
    "        for thr in cutoff_threshold:\n",
    "            HCP_qa[connectivity][weight][thr]={}\n",
    "            for sub in HCP_con:\n",
    "                hand=data_folder+'2_X-mask_manual/HCP/'+sub+'/X-mask_manual.nii.gz'\n",
    "                pred=data_folder+'5_X-mask_CNN/training_'+weight+'/connectivity_'+connectivity+'/threshold_'+thr+'/HCP/'+sub+'/X-mask_CNN_cropped_to_gt.nii.gz'\n",
    "                HCP_qa[connectivity][weight][thr][sub]=calculate_dice(hand, pred)"
   ]
  },
  {
   "cell_type": "code",
   "execution_count": 6,
   "metadata": {},
   "outputs": [],
   "source": [
    "# Dictionary with all the DSC for CHIASM\n",
    "CHIASM_qa={}\n",
    "\n",
    "for connectivity in connectivity_type:\n",
    "    CHIASM_qa[connectivity]={}\n",
    "    for weight in weights:\n",
    "        CHIASM_qa[connectivity][weight]={}\n",
    "        for thr in cutoff_threshold:\n",
    "            CHIASM_qa[connectivity][weight][thr]={}\n",
    "            for sub in CHIASM_con:\n",
    "                hand=data_folder+'2_X-mask_manual/CHIASM/'+sub+'/X-mask_manual.nii.gz'\n",
    "                pred=data_folder+'5_X-mask_CNN/training_'+weight+'/connectivity_'+connectivity+'/threshold_'+thr+'/CHIASM/'+sub+'/X-mask_CNN_cropped_to_gt.nii.gz'\n",
    "                CHIASM_qa[connectivity][weight][thr][sub]=calculate_dice(hand, pred)"
   ]
  },
  {
   "cell_type": "code",
   "execution_count": 7,
   "metadata": {},
   "outputs": [
    {
     "name": "stdout",
     "output_type": "stream",
     "text": [
      "connectivity_1      0.25                0.5                 0.75                1                   \n",
      "13ep_00025lr_dice   0.766978            0.770998            0.774405            0.810526            \n",
      "15ep_0003lr_dice    0.758212            0.761249            0.766351            0.785145            \n",
      "30ep_00025lr_dice   0.748503            0.751528            0.755451            0.794636            \n",
      "40ep_00015lr_dice   0.776841            0.783669            0.790386            0.721510            \n",
      "100ep_00005lr_dice  0.766088            0.765429            0.766529            0.758185            \n",
      "\n",
      "connectivity_2      0.25                0.5                 0.75                1                   \n",
      "13ep_00025lr_dice   0.766978            0.770998            0.774405            0.810526            \n",
      "15ep_0003lr_dice    0.758212            0.761249            0.766180            0.785145            \n",
      "30ep_00025lr_dice   0.748503            0.751528            0.755451            0.794636            \n",
      "40ep_00015lr_dice   0.776162            0.783192            0.789826            0.721510            \n",
      "100ep_00005lr_dice  0.766088            0.765429            0.766529            0.758185            \n",
      "\n",
      "connectivity_3      0.25                0.5                 0.75                1                   \n",
      "13ep_00025lr_dice   0.766978            0.770998            0.774405            0.810526            \n",
      "15ep_0003lr_dice    0.758212            0.761249            0.766180            0.785145            \n",
      "30ep_00025lr_dice   0.748503            0.751528            0.755451            0.794636            \n",
      "40ep_00015lr_dice   0.776162            0.783192            0.789826            0.721510            \n",
      "100ep_00005lr_dice  0.766088            0.765429            0.766529            0.758185            \n",
      "\n"
     ]
    }
   ],
   "source": [
    "# Mean DSC for HCP\n",
    "for i in connectivity_type:\n",
    "    print('connectivity_%-7s%-20s%-20s%-20s%-20s' % (i,cutoff_threshold[0],cutoff_threshold[1],cutoff_threshold[2],cutoff_threshold[3]))\n",
    "    for j in range(len(weights)):\n",
    "        print('%-20s%-20f%-20f%-20f%-20f' % (weights[j],np.mean(list((HCP_qa[i][weights[j]][cutoff_threshold[0]]).values())),np.mean(list((HCP_qa[i][weights[j]][cutoff_threshold[1]]).values())),np.mean(list((HCP_qa[i][weights[j]][cutoff_threshold[2]]).values())),np.mean(list((HCP_qa[i][weights[j]][cutoff_threshold[3]]).values()))))\n",
    "    print('')"
   ]
  },
  {
   "cell_type": "code",
   "execution_count": 8,
   "metadata": {},
   "outputs": [
    {
     "name": "stdout",
     "output_type": "stream",
     "text": [
      "connectivity_1      0.25                0.5                 0.75                1                   \n",
      "13ep_00025lr_dice   0.021901            0.021156            0.020869            0.017743            \n",
      "15ep_0003lr_dice    0.022031            0.022153            0.020911            0.016619            \n",
      "30ep_00025lr_dice   0.022135            0.021953            0.021605            0.020032            \n",
      "40ep_00015lr_dice   0.024265            0.024044            0.023328            0.042282            \n",
      "100ep_00005lr_dice  0.016882            0.017978            0.018524            0.022553            \n",
      "\n",
      "connectivity_2      0.25                0.5                 0.75                1                   \n",
      "13ep_00025lr_dice   0.021901            0.021156            0.020869            0.017743            \n",
      "15ep_0003lr_dice    0.022031            0.022153            0.020872            0.016619            \n",
      "30ep_00025lr_dice   0.022135            0.021953            0.021605            0.020032            \n",
      "40ep_00015lr_dice   0.024283            0.024136            0.023378            0.042282            \n",
      "100ep_00005lr_dice  0.016882            0.017978            0.018524            0.022553            \n",
      "\n",
      "connectivity_3      0.25                0.5                 0.75                1                   \n",
      "13ep_00025lr_dice   0.021901            0.021156            0.020869            0.017743            \n",
      "15ep_0003lr_dice    0.022031            0.022153            0.020872            0.016619            \n",
      "30ep_00025lr_dice   0.022135            0.021953            0.021605            0.020032            \n",
      "40ep_00015lr_dice   0.024283            0.024136            0.023378            0.042282            \n",
      "100ep_00005lr_dice  0.016882            0.017978            0.018524            0.022553            \n",
      "\n"
     ]
    }
   ],
   "source": [
    "# Std DSC for HCP\n",
    "for i in connectivity_type:\n",
    "    print('connectivity_%-7s%-20s%-20s%-20s%-20s' % (i,cutoff_threshold[0],cutoff_threshold[1],cutoff_threshold[2],cutoff_threshold[3]))\n",
    "    for j in range(len(weights)):\n",
    "        print('%-20s%-20f%-20f%-20f%-20f' % (weights[j],stats.sem(list((HCP_qa[i][weights[j]][cutoff_threshold[0]]).values())),stats.sem(list((HCP_qa[i][weights[j]][cutoff_threshold[1]]).values())),stats.sem(list((HCP_qa[i][weights[j]][cutoff_threshold[2]]).values())),stats.sem(list((HCP_qa[i][weights[j]][cutoff_threshold[3]]).values()))))\n",
    "    print('')"
   ]
  },
  {
   "cell_type": "code",
   "execution_count": 9,
   "metadata": {},
   "outputs": [
    {
     "name": "stdout",
     "output_type": "stream",
     "text": [
      "connectivity_1      0.25                0.5                 0.75                1                   \n",
      "13ep_00025lr_dice   0.579935            0.560515            0.545142            0.245325            \n",
      "15ep_0003lr_dice    0.088544            0.082007            0.077209            0.022426            \n",
      "30ep_00025lr_dice   0.777995            0.778557            0.774959            0.747723            \n",
      "40ep_00015lr_dice   0.601812            0.601190            0.601547            0.423171            \n",
      "100ep_00005lr_dice  0.396440            0.386062            0.378783            0.253640            \n",
      "\n",
      "connectivity_2      0.25                0.5                 0.75                1                   \n",
      "13ep_00025lr_dice   0.584541            0.570050            0.553982            0.251205            \n",
      "15ep_0003lr_dice    0.096688            0.089928            0.082181            0.027490            \n",
      "30ep_00025lr_dice   0.777906            0.778557            0.774959            0.747948            \n",
      "40ep_00015lr_dice   0.599979            0.600652            0.600616            0.425245            \n",
      "100ep_00005lr_dice  0.397849            0.387602            0.379302            0.264045            \n",
      "\n",
      "connectivity_3      0.25                0.5                 0.75                1                   \n",
      "13ep_00025lr_dice   0.583523            0.569627            0.553651            0.254006            \n",
      "15ep_0003lr_dice    0.097085            0.089928            0.082596            0.027490            \n",
      "30ep_00025lr_dice   0.777906            0.778557            0.774959            0.747948            \n",
      "40ep_00015lr_dice   0.599972            0.600876            0.600115            0.425801            \n",
      "100ep_00005lr_dice  0.397849            0.387602            0.379302            0.264045            \n",
      "\n"
     ]
    }
   ],
   "source": [
    "# Mean DSC for CHIASM\n",
    "for i in connectivity_type:\n",
    "    print('connectivity_%-7s%-20s%-20s%-20s%-20s' % (i,cutoff_threshold[0],cutoff_threshold[1],cutoff_threshold[2],cutoff_threshold[3]))\n",
    "    for j in range(len(weights)):\n",
    "        print('%-20s%-20f%-20f%-20f%-20f' % (weights[j],np.mean(list((CHIASM_qa[i][weights[j]][cutoff_threshold[0]]).values())),np.mean(list((CHIASM_qa[i][weights[j]][cutoff_threshold[1]]).values())),np.mean(list((CHIASM_qa[i][weights[j]][cutoff_threshold[2]]).values())),np.mean(list((CHIASM_qa[i][weights[j]][cutoff_threshold[3]]).values()))))\n",
    "    print('')"
   ]
  },
  {
   "cell_type": "code",
   "execution_count": 10,
   "metadata": {},
   "outputs": [
    {
     "name": "stdout",
     "output_type": "stream",
     "text": [
      "connectivity_1      0.25                0.5                 0.75                1                   \n",
      "13ep_00025lr_dice   0.040836            0.043856            0.045127            0.059391            \n",
      "15ep_0003lr_dice    0.027205            0.025332            0.023801            0.011964            \n",
      "30ep_00025lr_dice   0.028792            0.029290            0.029248            0.025780            \n",
      "40ep_00015lr_dice   0.032322            0.032600            0.031363            0.039250            \n",
      "100ep_00005lr_dice  0.053125            0.053898            0.053029            0.056425            \n",
      "\n",
      "connectivity_2      0.25                0.5                 0.75                1                   \n",
      "13ep_00025lr_dice   0.039879            0.042212            0.043619            0.056282            \n",
      "15ep_0003lr_dice    0.027966            0.026181            0.023635            0.011662            \n",
      "30ep_00025lr_dice   0.028829            0.029290            0.029248            0.025722            \n",
      "40ep_00015lr_dice   0.030950            0.031641            0.031444            0.038144            \n",
      "100ep_00005lr_dice  0.052973            0.053814            0.053089            0.052649            \n",
      "\n",
      "connectivity_3      0.25                0.5                 0.75                1                   \n",
      "13ep_00025lr_dice   0.039985            0.042325            0.043705            0.057730            \n",
      "15ep_0003lr_dice    0.028206            0.026181            0.023890            0.011662            \n",
      "30ep_00025lr_dice   0.028829            0.029290            0.029248            0.025722            \n",
      "40ep_00015lr_dice   0.031138            0.031767            0.031244            0.038416            \n",
      "100ep_00005lr_dice  0.052973            0.053814            0.053089            0.052649            \n",
      "\n"
     ]
    }
   ],
   "source": [
    "# Std DSC for CHIASM\n",
    "for i in connectivity_type:\n",
    "    print('connectivity_%-7s%-20s%-20s%-20s%-20s' % (i,cutoff_threshold[0],cutoff_threshold[1],cutoff_threshold[2],cutoff_threshold[3]))\n",
    "    for j in range(len(weights)):\n",
    "        print('%-20s%-20f%-20f%-20f%-20f' % (weights[j],stats.sem(list((CHIASM_qa[i][weights[j]][cutoff_threshold[0]]).values())),stats.sem(list((CHIASM_qa[i][weights[j]][cutoff_threshold[1]]).values())),stats.sem(list((CHIASM_qa[i][weights[j]][cutoff_threshold[2]]).values())),stats.sem(list((CHIASM_qa[i][weights[j]][cutoff_threshold[3]]).values()))))\n",
    "    print('')"
   ]
  }
 ],
 "metadata": {
  "kernelspec": {
   "display_name": "Python 3",
   "language": "python",
   "name": "python3"
  },
  "language_info": {
   "codemirror_mode": {
    "name": "ipython",
    "version": 3
   },
   "file_extension": ".py",
   "mimetype": "text/x-python",
   "name": "python",
   "nbconvert_exporter": "python",
   "pygments_lexer": "ipython3",
   "version": "3.8.3"
  }
 },
 "nbformat": 4,
 "nbformat_minor": 4
}
